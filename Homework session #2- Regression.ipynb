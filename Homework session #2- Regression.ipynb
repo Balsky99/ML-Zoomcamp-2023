{
 "cells": [
  {
   "cell_type": "code",
   "execution_count": 1,
   "id": "d6644b76",
   "metadata": {},
   "outputs": [],
   "source": [
    "#import library\n",
    "import numpy as np\n",
    "import pandas as pd\n",
    "import matplotlib.pyplot as plt\n",
    "import seaborn as sns"
   ]
  },
  {
   "cell_type": "code",
   "execution_count": 2,
   "id": "1070fbb5",
   "metadata": {},
   "outputs": [],
   "source": [
    "df = pd.read_csv(\"https://raw.githubusercontent.com/alexeygrigorev/datasets/master/housing.csv\")"
   ]
  },
  {
   "cell_type": "code",
   "execution_count": 3,
   "id": "a981affb",
   "metadata": {
    "scrolled": false
   },
   "outputs": [
    {
     "data": {
      "text/html": [
       "<div>\n",
       "<style scoped>\n",
       "    .dataframe tbody tr th:only-of-type {\n",
       "        vertical-align: middle;\n",
       "    }\n",
       "\n",
       "    .dataframe tbody tr th {\n",
       "        vertical-align: top;\n",
       "    }\n",
       "\n",
       "    .dataframe thead th {\n",
       "        text-align: right;\n",
       "    }\n",
       "</style>\n",
       "<table border=\"1\" class=\"dataframe\">\n",
       "  <thead>\n",
       "    <tr style=\"text-align: right;\">\n",
       "      <th></th>\n",
       "      <th>longitude</th>\n",
       "      <th>latitude</th>\n",
       "      <th>housing_median_age</th>\n",
       "      <th>total_rooms</th>\n",
       "      <th>total_bedrooms</th>\n",
       "      <th>population</th>\n",
       "      <th>households</th>\n",
       "      <th>median_income</th>\n",
       "      <th>median_house_value</th>\n",
       "      <th>ocean_proximity</th>\n",
       "    </tr>\n",
       "  </thead>\n",
       "  <tbody>\n",
       "    <tr>\n",
       "      <th>0</th>\n",
       "      <td>-122.23</td>\n",
       "      <td>37.88</td>\n",
       "      <td>41.0</td>\n",
       "      <td>880.0</td>\n",
       "      <td>129.0</td>\n",
       "      <td>322.0</td>\n",
       "      <td>126.0</td>\n",
       "      <td>8.3252</td>\n",
       "      <td>452600.0</td>\n",
       "      <td>NEAR BAY</td>\n",
       "    </tr>\n",
       "    <tr>\n",
       "      <th>1</th>\n",
       "      <td>-122.22</td>\n",
       "      <td>37.86</td>\n",
       "      <td>21.0</td>\n",
       "      <td>7099.0</td>\n",
       "      <td>1106.0</td>\n",
       "      <td>2401.0</td>\n",
       "      <td>1138.0</td>\n",
       "      <td>8.3014</td>\n",
       "      <td>358500.0</td>\n",
       "      <td>NEAR BAY</td>\n",
       "    </tr>\n",
       "    <tr>\n",
       "      <th>2</th>\n",
       "      <td>-122.24</td>\n",
       "      <td>37.85</td>\n",
       "      <td>52.0</td>\n",
       "      <td>1467.0</td>\n",
       "      <td>190.0</td>\n",
       "      <td>496.0</td>\n",
       "      <td>177.0</td>\n",
       "      <td>7.2574</td>\n",
       "      <td>352100.0</td>\n",
       "      <td>NEAR BAY</td>\n",
       "    </tr>\n",
       "    <tr>\n",
       "      <th>3</th>\n",
       "      <td>-122.25</td>\n",
       "      <td>37.85</td>\n",
       "      <td>52.0</td>\n",
       "      <td>1274.0</td>\n",
       "      <td>235.0</td>\n",
       "      <td>558.0</td>\n",
       "      <td>219.0</td>\n",
       "      <td>5.6431</td>\n",
       "      <td>341300.0</td>\n",
       "      <td>NEAR BAY</td>\n",
       "    </tr>\n",
       "    <tr>\n",
       "      <th>4</th>\n",
       "      <td>-122.25</td>\n",
       "      <td>37.85</td>\n",
       "      <td>52.0</td>\n",
       "      <td>1627.0</td>\n",
       "      <td>280.0</td>\n",
       "      <td>565.0</td>\n",
       "      <td>259.0</td>\n",
       "      <td>3.8462</td>\n",
       "      <td>342200.0</td>\n",
       "      <td>NEAR BAY</td>\n",
       "    </tr>\n",
       "  </tbody>\n",
       "</table>\n",
       "</div>"
      ],
      "text/plain": [
       "   longitude  latitude  housing_median_age  total_rooms  total_bedrooms  \\\n",
       "0    -122.23     37.88                41.0        880.0           129.0   \n",
       "1    -122.22     37.86                21.0       7099.0          1106.0   \n",
       "2    -122.24     37.85                52.0       1467.0           190.0   \n",
       "3    -122.25     37.85                52.0       1274.0           235.0   \n",
       "4    -122.25     37.85                52.0       1627.0           280.0   \n",
       "\n",
       "   population  households  median_income  median_house_value ocean_proximity  \n",
       "0       322.0       126.0         8.3252            452600.0        NEAR BAY  \n",
       "1      2401.0      1138.0         8.3014            358500.0        NEAR BAY  \n",
       "2       496.0       177.0         7.2574            352100.0        NEAR BAY  \n",
       "3       558.0       219.0         5.6431            341300.0        NEAR BAY  \n",
       "4       565.0       259.0         3.8462            342200.0        NEAR BAY  "
      ]
     },
     "execution_count": 3,
     "metadata": {},
     "output_type": "execute_result"
    }
   ],
   "source": [
    "#see the first 5 row\n",
    "df.head()"
   ]
  },
  {
   "cell_type": "markdown",
   "id": "046d3b35",
   "metadata": {},
   "source": [
    "Look at the median_house_value variable. Does it have a long tail?"
   ]
  },
  {
   "cell_type": "code",
   "execution_count": 4,
   "id": "e4abe74c",
   "metadata": {
    "scrolled": true
   },
   "outputs": [
    {
     "data": {
      "text/plain": [
       "<AxesSubplot:xlabel='median_house_value', ylabel='Count'>"
      ]
     },
     "execution_count": 4,
     "metadata": {},
     "output_type": "execute_result"
    },
    {
     "data": {
      "image/png": "[encoded data removed]",
      "text/plain": [
       "<Figure size 432x288 with 1 Axes>"
      ]
     },
     "metadata": {
      "needs_background": "light"
     },
     "output_type": "display_data"
    }
   ],
   "source": [
    "#use hisplot to see the distribution of data\n",
    "sns.histplot(df[\"median_house_value\"], bins=50)"
   ]
  },
  {
   "cell_type": "markdown",
   "id": "dbbf9716",
   "metadata": {},
   "source": [
    "Long tail is a condition where the most data is located in the specific value (low range), but the other range value, total data is very shallow.\n",
    "\n",
    "Based on this result, we can conclude that media_house_value variable has not a long tail condition, because the distribution of median_house_value concentrate in each value."
   ]
  },
  {
   "cell_type": "markdown",
   "id": "6bf9b532",
   "metadata": {},
   "source": [
    "# FEATURES"
   ]
  },
  {
   "cell_type": "markdown",
   "id": "5a592320",
   "metadata": {},
   "source": [
    "#select only\n",
    "'latitude',\n",
    "'longitude',\n",
    "'housing_median_age',\n",
    "'total_rooms',\n",
    "'total_bedrooms',\n",
    "'population',\n",
    "'households',\n",
    "'median_income',\n",
    "'median_house_value'\n",
    "Select only them"
   ]
  },
  {
   "cell_type": "code",
   "execution_count": 5,
   "id": "560d0655",
   "metadata": {},
   "outputs": [],
   "source": [
    "df = df[['latitude','longitude','housing_median_age','total_rooms','total_bedrooms','population','households','median_income','median_house_value']]"
   ]
  },
  {
   "cell_type": "code",
   "execution_count": 6,
   "id": "e256732c",
   "metadata": {},
   "outputs": [
    {
     "data": {
      "text/html": [
       "<div>\n",
       "<style scoped>\n",
       "    .dataframe tbody tr th:only-of-type {\n",
       "        vertical-align: middle;\n",
       "    }\n",
       "\n",
       "    .dataframe tbody tr th {\n",
       "        vertical-align: top;\n",
       "    }\n",
       "\n",
       "    .dataframe thead th {\n",
       "        text-align: right;\n",
       "    }\n",
       "</style>\n",
       "<table border=\"1\" class=\"dataframe\">\n",
       "  <thead>\n",
       "    <tr style=\"text-align: right;\">\n",
       "      <th></th>\n",
       "      <th>latitude</th>\n",
       "      <th>longitude</th>\n",
       "      <th>housing_median_age</th>\n",
       "      <th>total_rooms</th>\n",
       "      <th>total_bedrooms</th>\n",
       "      <th>population</th>\n",
       "      <th>households</th>\n",
       "      <th>median_income</th>\n",
       "      <th>median_house_value</th>\n",
       "    </tr>\n",
       "  </thead>\n",
       "  <tbody>\n",
       "    <tr>\n",
       "      <th>0</th>\n",
       "      <td>37.88</td>\n",
       "      <td>-122.23</td>\n",
       "      <td>41.0</td>\n",
       "      <td>880.0</td>\n",
       "      <td>129.0</td>\n",
       "      <td>322.0</td>\n",
       "      <td>126.0</td>\n",
       "      <td>8.3252</td>\n",
       "      <td>452600.0</td>\n",
       "    </tr>\n",
       "    <tr>\n",
       "      <th>1</th>\n",
       "      <td>37.86</td>\n",
       "      <td>-122.22</td>\n",
       "      <td>21.0</td>\n",
       "      <td>7099.0</td>\n",
       "      <td>1106.0</td>\n",
       "      <td>2401.0</td>\n",
       "      <td>1138.0</td>\n",
       "      <td>8.3014</td>\n",
       "      <td>358500.0</td>\n",
       "    </tr>\n",
       "    <tr>\n",
       "      <th>2</th>\n",
       "      <td>37.85</td>\n",
       "      <td>-122.24</td>\n",
       "      <td>52.0</td>\n",
       "      <td>1467.0</td>\n",
       "      <td>190.0</td>\n",
       "      <td>496.0</td>\n",
       "      <td>177.0</td>\n",
       "      <td>7.2574</td>\n",
       "      <td>352100.0</td>\n",
       "    </tr>\n",
       "    <tr>\n",
       "      <th>3</th>\n",
       "      <td>37.85</td>\n",
       "      <td>-122.25</td>\n",
       "      <td>52.0</td>\n",
       "      <td>1274.0</td>\n",
       "      <td>235.0</td>\n",
       "      <td>558.0</td>\n",
       "      <td>219.0</td>\n",
       "      <td>5.6431</td>\n",
       "      <td>341300.0</td>\n",
       "    </tr>\n",
       "    <tr>\n",
       "      <th>4</th>\n",
       "      <td>37.85</td>\n",
       "      <td>-122.25</td>\n",
       "      <td>52.0</td>\n",
       "      <td>1627.0</td>\n",
       "      <td>280.0</td>\n",
       "      <td>565.0</td>\n",
       "      <td>259.0</td>\n",
       "      <td>3.8462</td>\n",
       "      <td>342200.0</td>\n",
       "    </tr>\n",
       "  </tbody>\n",
       "</table>\n",
       "</div>"
      ],
      "text/plain": [
       "   latitude  longitude  housing_median_age  total_rooms  total_bedrooms  \\\n",
       "0     37.88    -122.23                41.0        880.0           129.0   \n",
       "1     37.86    -122.22                21.0       7099.0          1106.0   \n",
       "2     37.85    -122.24                52.0       1467.0           190.0   \n",
       "3     37.85    -122.25                52.0       1274.0           235.0   \n",
       "4     37.85    -122.25                52.0       1627.0           280.0   \n",
       "\n",
       "   population  households  median_income  median_house_value  \n",
       "0       322.0       126.0         8.3252            452600.0  \n",
       "1      2401.0      1138.0         8.3014            358500.0  \n",
       "2       496.0       177.0         7.2574            352100.0  \n",
       "3       558.0       219.0         5.6431            341300.0  \n",
       "4       565.0       259.0         3.8462            342200.0  "
      ]
     },
     "execution_count": 6,
     "metadata": {},
     "output_type": "execute_result"
    }
   ],
   "source": [
    "df.head()"
   ]
  },
  {
   "cell_type": "markdown",
   "id": "fe488a13",
   "metadata": {},
   "source": [
    "# Question 1\n",
    "Find a feature with missing values. How many missing values does it have?"
   ]
  },
  {
   "cell_type": "code",
   "execution_count": 7,
   "id": "2a7d69fd",
   "metadata": {},
   "outputs": [
    {
     "data": {
      "text/plain": [
       "latitude                0\n",
       "longitude               0\n",
       "housing_median_age      0\n",
       "total_rooms             0\n",
       "total_bedrooms        207\n",
       "population              0\n",
       "households              0\n",
       "median_income           0\n",
       "median_house_value      0\n",
       "dtype: int64"
      ]
     },
     "execution_count": 7,
     "metadata": {},
     "output_type": "execute_result"
    }
   ],
   "source": [
    "df.isnull().sum()"
   ]
  },
  {
   "cell_type": "markdown",
   "id": "7cfe33af",
   "metadata": {},
   "source": [
    "There is 207 row missing value in the total_bedrooms column"
   ]
  },
  {
   "cell_type": "markdown",
   "id": "261bf218",
   "metadata": {},
   "source": [
    "# What's the median (50% percentile) for variable 'population'?"
   ]
  },
  {
   "cell_type": "code",
   "execution_count": 8,
   "id": "8d91fd21",
   "metadata": {},
   "outputs": [
    {
     "data": {
      "text/plain": [
       "1166.0"
      ]
     },
     "execution_count": 8,
     "metadata": {},
     "output_type": "execute_result"
    }
   ],
   "source": [
    "median = df['population'].median()\n",
    "median"
   ]
  },
  {
   "cell_type": "markdown",
   "id": "cd7b34e6",
   "metadata": {},
   "source": [
    "Median for variable population in the dataset is 1166"
   ]
  },
  {
   "cell_type": "markdown",
   "id": "589216f6",
   "metadata": {},
   "source": [
    "# Split the data\n",
    "- Shuffle the initial dataset, use seed 42.\n",
    "- Split your data in train/val/test sets, with 60%/20%/20% distribution.\n",
    "- Make sure that the target value ('median_house_value') is not in your dataframe.\n",
    "- Apply the log transformation to the median_house_value variable using the np.log1p() function."
   ]
  },
  {
   "cell_type": "code",
   "execution_count": 9,
   "id": "94103a17",
   "metadata": {},
   "outputs": [],
   "source": [
    "np.random.seed(42)\n",
    "\n",
    "n = len(df)\n",
    "\n",
    "n_val = int(n * 0.2)\n",
    "n_test = int(n * 0.2)\n",
    "n_train = n - (n_val + n_test)\n",
    "\n",
    "idx = np.arange(n)\n",
    "np.random.shuffle(idx)\n",
    "\n",
    "df_shuffled = df.iloc[idx]\n",
    "\n",
    "df_train = df_shuffled.iloc[:n_train]\n",
    "df_val = df_shuffled.iloc[n_train:n_train+n_val]\n",
    "df_test = df_shuffled.iloc[n_train+n_val:]"
   ]
  },
  {
   "cell_type": "code",
   "execution_count": 10,
   "id": "607b9f3d",
   "metadata": {},
   "outputs": [],
   "source": [
    "df_train = df_train.reset_index(drop=True)\n",
    "df_val = df_val.reset_index(drop=True)\n",
    "df_test = df_test.reset_index(drop=True)"
   ]
  },
  {
   "cell_type": "code",
   "execution_count": 11,
   "id": "5f2a8f0a",
   "metadata": {},
   "outputs": [],
   "source": [
    "y_train = np.log1p(df_train['median_house_value'].values)\n",
    "y_val = np.log1p(df_val['median_house_value'].values)\n",
    "y_test = np.log1p(df_test['median_house_value'].values)"
   ]
  },
  {
   "cell_type": "code",
   "execution_count": 12,
   "id": "cefffad3",
   "metadata": {},
   "outputs": [],
   "source": [
    "del df_train['median_house_value']\n",
    "del df_val['median_house_value']\n",
    "del df_test['median_house_value']"
   ]
  },
  {
   "cell_type": "markdown",
   "id": "4b605d3d",
   "metadata": {},
   "source": [
    "# Question 3\n",
    "- We need to deal with missing values for the column from Q1.\n",
    "- We have two options: fill it with 0 or with the mean of this variable.\n",
    "- Try both options. For each, train a linear regression model without regularization using the code from the lessons.\n",
    "- For computing the mean, use the training only!\n",
    "- Use the validation dataset to evaluate the models and compare the RMSE of each option.\n",
    "- Round the RMSE scores to 2 decimal digits using round(score, 2)\n",
    "- Which option gives better RMSE?"
   ]
  },
  {
   "cell_type": "code",
   "execution_count": 13,
   "id": "f3f7986a",
   "metadata": {},
   "outputs": [],
   "source": [
    "#if fill missing valuw with 0\n",
    "def prepare_X_with_zero(df):\n",
    "    df_num = df.fillna(0)\n",
    "    X = df_num.values\n",
    "    return X"
   ]
  },
  {
   "cell_type": "code",
   "execution_count": 14,
   "id": "e98bce37",
   "metadata": {},
   "outputs": [],
   "source": [
    "#if fill missing valuw with mean\n",
    "import statistics\n",
    "mean = statistics.mean(df_train['total_bedrooms'])\n",
    "def prepare_X_with_mean(df):\n",
    "    df_num = df.fillna(mean)\n",
    "    X = df_num.values\n",
    "    return X"
   ]
  },
  {
   "cell_type": "code",
   "execution_count": 15,
   "id": "d8bb54a5",
   "metadata": {},
   "outputs": [],
   "source": [
    "#linear reagression\n",
    "def train_linear_regression(X, y):\n",
    "    ones = np.ones(X.shape[0])\n",
    "    X = np.column_stack([ones, X])\n",
    "\n",
    "    XTX = X.T.dot(X)\n",
    "    XTX_inv = np.linalg.inv(XTX)\n",
    "    w = XTX_inv.dot(X.T).dot(y)\n",
    "    \n",
    "    return w[0], w[1:]"
   ]
  },
  {
   "cell_type": "code",
   "execution_count": 16,
   "id": "1d2472d5",
   "metadata": {},
   "outputs": [],
   "source": [
    "X_train = prepare_X_with_zero(df_train)\n",
    "w_0, w = train_linear_regression(X_train, y_train)"
   ]
  },
  {
   "cell_type": "code",
   "execution_count": 17,
   "id": "504345b5",
   "metadata": {},
   "outputs": [],
   "source": [
    "#calculate rmse\n",
    "def rmse(y, y_pred):\n",
    "    error = y_pred - y\n",
    "    mse = (error ** 2).mean()\n",
    "    return np.sqrt(mse)"
   ]
  },
  {
   "cell_type": "code",
   "execution_count": 18,
   "id": "621593e3",
   "metadata": {},
   "outputs": [],
   "source": [
    "X_val_zero = prepare_X_with_zero(df_val)\n",
    "y_pred_zero = w_0 + X_val_zero.dot(w)\n",
    "\n",
    "X_val_mean = prepare_X_with_mean(df_val)\n",
    "y_pred_mean = w_0 + X_val_mean.dot(w)"
   ]
  },
  {
   "cell_type": "code",
   "execution_count": 19,
   "id": "04036962",
   "metadata": {},
   "outputs": [],
   "source": [
    "rmse_with_zero = round(rmse(y_val, y_pred_zero),2)\n",
    "rmse_with_mean = round(rmse(y_val, y_pred_mean),2)"
   ]
  },
  {
   "cell_type": "code",
   "execution_count": 20,
   "id": "2f570338",
   "metadata": {},
   "outputs": [
    {
     "name": "stdout",
     "output_type": "stream",
     "text": [
      "Both are equally good\n"
     ]
    }
   ],
   "source": [
    "#compare rmse_score\n",
    "if rmse_with_zero<rmse_with_mean:\n",
    "    print('With 0')\n",
    "elif rmse_with_zero>rmse_with_mean:\n",
    "    print('With mean')\n",
    "else:\n",
    "    print('Both are equally good')"
   ]
  },
  {
   "cell_type": "markdown",
   "id": "9fe16a8f",
   "metadata": {},
   "source": [
    "Based on this result, we can see that both of them are equally good rmse, because comparison between rmse score (fill with zero value) and rmse score (fill with mean value from train) are similar"
   ]
  },
  {
   "cell_type": "markdown",
   "id": "b1f1bd7b",
   "metadata": {},
   "source": [
    "# Question 4\n",
    "- Now let's train a regularized linear regression.\n",
    "- For this question, fill the NAs with 0.\n",
    "- Try different values of r from this list: [0, 0.000001, 0.0001, 0.001, 0.01, 0.1, 1, 5, 10].\n",
    "- Use RMSE to evaluate the model on the validation dataset.\n",
    "- Round the RMSE scores to 2 decimal digits.\n",
    "- Which r gives the best RMSE?"
   ]
  },
  {
   "cell_type": "code",
   "execution_count": 21,
   "id": "26fb590f",
   "metadata": {},
   "outputs": [],
   "source": [
    "#fill missing valuw with 0\n",
    "def prepare_X(df):\n",
    "    df_num = df.fillna(0)\n",
    "    X = df_num.values\n",
    "    return X"
   ]
  },
  {
   "cell_type": "code",
   "execution_count": 22,
   "id": "4c2f4bfe",
   "metadata": {},
   "outputs": [],
   "source": [
    "def train_linear_regression_reg(X, y, r):\n",
    "    ones = np.ones(X.shape[0])\n",
    "    X = np.column_stack([ones, X])\n",
    "\n",
    "    XTX = X.T.dot(X)\n",
    "    reg = r * np.eye(XTX.shape[0])\n",
    "    XTX = XTX + reg\n",
    "\n",
    "    XTX_inv = np.linalg.inv(XTX)\n",
    "    w = XTX_inv.dot(X.T).dot(y)\n",
    "    \n",
    "    return w[0], w[1:]"
   ]
  },
  {
   "cell_type": "code",
   "execution_count": 23,
   "id": "72dfbf1e",
   "metadata": {},
   "outputs": [
    {
     "name": "stdout",
     "output_type": "stream",
     "text": [
      "Regularization with      0 : 0.33\n",
      "Regularization with  1e-06 : 0.33\n",
      "Regularization with 0.0001 : 0.33\n",
      "Regularization with  0.001 : 0.33\n",
      "Regularization with   0.01 : 0.33\n",
      "Regularization with    0.1 : 0.33\n",
      "Regularization with      1 : 0.33\n",
      "Regularization with      5 : 0.34\n",
      "Regularization with     10 : 0.34\n"
     ]
    }
   ],
   "source": [
    "X_train = prepare_X(df_train)\n",
    "X_val = prepare_X(df_val)\n",
    "\n",
    "for r in [0, 0.000001, 0.0001, 0.001, 0.01, 0.1, 1, 5, 10]:\n",
    "    w_0, w = train_linear_regression_reg(X_train, y_train, r=r)\n",
    "    y_pred = w_0 + X_val.dot(w)\n",
    "    print('Regularization with %6s' %r, ':', round(rmse(y_val, y_pred),2))"
   ]
  },
  {
   "cell_type": "markdown",
   "id": "2a013ac0",
   "metadata": {},
   "source": [
    "Because the rmse score for each regularization parameter majority is similar if we will round rmse score, so we decide to deactivate round function to calculate rmse score for each regularization parameter, you can see that:"
   ]
  },
  {
   "cell_type": "code",
   "execution_count": 24,
   "id": "5fcbaf28",
   "metadata": {},
   "outputs": [
    {
     "name": "stdout",
     "output_type": "stream",
     "text": [
      "Regularization with      0 : 0.329533036523912\n",
      "Regularization with  1e-06 : 0.3295330361644933\n",
      "Regularization with 0.0001 : 0.3295330009701873\n",
      "Regularization with  0.001 : 0.3295327038670615\n",
      "Regularization with   0.01 : 0.32953193659943614\n",
      "Regularization with    0.1 : 0.3296947205389722\n",
      "Regularization with      1 : 0.33378872199973053\n",
      "Regularization with      5 : 0.33924853455008347\n",
      "Regularization with     10 : 0.34060638078081384\n"
     ]
    }
   ],
   "source": [
    "for r in [0, 0.000001, 0.0001, 0.001, 0.01, 0.1, 1, 5, 10]:\n",
    "    w_0, w = train_linear_regression_reg(X_train, y_train, r=r)\n",
    "    y_pred = w_0 + X_val.dot(w)\n",
    "    print('Regularization with %6s' %r, ':', rmse(y_val, y_pred))"
   ]
  },
  {
   "cell_type": "markdown",
   "id": "9275be7b",
   "metadata": {},
   "source": [
    "As You can see that the best regularization parameter r is 0.01 (the smallest rmse score)"
   ]
  },
  {
   "cell_type": "markdown",
   "id": "f1de05fe",
   "metadata": {},
   "source": [
    "# Question 5\n",
    "- We used seed 42 for splitting the data. Let's find out how selecting the seed influences our score.\n",
    "- Try different seed values: [0, 1, 2, 3, 4, 5, 6, 7, 8, 9].\n",
    "- For each seed, do the train/validation/test split with 60%/20%/20% distribution.\n",
    "- Fill the missing values with 0 and train a model without regularization.\n",
    "- For each seed, evaluate the model on the validation dataset and collect the RMSE scores.\n",
    "- What's the standard deviation of all the scores? To compute the standard deviation, use np.std.\n",
    "- Round the result to 3 decimal digits (round(std, 3))"
   ]
  },
  {
   "cell_type": "code",
   "execution_count": 25,
   "id": "22e06c06",
   "metadata": {},
   "outputs": [],
   "source": [
    "#fill missing valuw with 0\n",
    "def prepare_X_with_zero(df):\n",
    "    df_num = df.fillna(0)\n",
    "    X = df_num.values\n",
    "    return X"
   ]
  },
  {
   "cell_type": "code",
   "execution_count": 26,
   "id": "c519da68",
   "metadata": {},
   "outputs": [],
   "source": [
    "#linear reagression\n",
    "def train_linear_regression(X, y):\n",
    "    ones = np.ones(X.shape[0])\n",
    "    X = np.column_stack([ones, X])\n",
    "\n",
    "    XTX = X.T.dot(X)\n",
    "    XTX_inv = np.linalg.inv(XTX)\n",
    "    w = XTX_inv.dot(X.T).dot(y)\n",
    "    \n",
    "    return w[0], w[1:]"
   ]
  },
  {
   "cell_type": "code",
   "execution_count": 27,
   "id": "2b1eaade",
   "metadata": {},
   "outputs": [],
   "source": [
    "#calculate rmse\n",
    "def rmse(y, y_pred):\n",
    "    error = y_pred - y\n",
    "    mse = (error ** 2).mean()\n",
    "    return np.sqrt(mse)"
   ]
  },
  {
   "cell_type": "code",
   "execution_count": 28,
   "id": "69cbc58a",
   "metadata": {},
   "outputs": [],
   "source": [
    "#create function to calculate rmse score using more than one seed\n",
    "\n",
    "def data_seed(i):\n",
    "    np.random.seed(i)\n",
    "\n",
    "    n = len(df)\n",
    "\n",
    "    n_val = int(n * 0.2)\n",
    "    n_test = int(n * 0.2)\n",
    "    n_train = n - (n_val + n_test)\n",
    "\n",
    "    idx = np.arange(n)\n",
    "    np.random.shuffle(idx)\n",
    "\n",
    "    df_shuffled = df.iloc[idx]\n",
    "\n",
    "    df_train = df_shuffled.iloc[:n_train]\n",
    "    df_val = df_shuffled.iloc[n_train:n_train+n_val]\n",
    "    df_test = df_shuffled.iloc[n_train+n_val:]\n",
    "    \n",
    "    df_train = df_train.reset_index(drop=True)\n",
    "    df_val = df_val.reset_index(drop=True)\n",
    "    df_test = df_test.reset_index(drop=True)\n",
    "    \n",
    "    y_train = np.log1p(df_train['median_house_value'].values)\n",
    "    y_val = np.log1p(df_val['median_house_value'].values)\n",
    "    y_test = np.log1p(df_test['median_house_value'].values)\n",
    "    \n",
    "    del df_train['median_house_value']\n",
    "    del df_val['median_house_value']\n",
    "    del df_test['median_house_value']\n",
    "        \n",
    "    X_train = prepare_X_with_zero(df_train)\n",
    "    w_0, w = train_linear_regression(X_train, y_train)\n",
    "        \n",
    "    X_val_zero = prepare_X_with_zero(df_val)\n",
    "    y_pred_zero = w_0 + X_val_zero.dot(w)\n",
    "        \n",
    "    rmse_score = rmse(y_val, y_pred_zero)\n",
    "    \n",
    "    return rmse_score"
   ]
  },
  {
   "cell_type": "code",
   "execution_count": 29,
   "id": "3a0141e2",
   "metadata": {},
   "outputs": [],
   "source": [
    "#selecting the seed influences the score\n",
    "score = []\n",
    "for i in [42,0,1,2,3,4,5,6,7,8,9]:\n",
    "    score.append(data_seed(i))"
   ]
  },
  {
   "cell_type": "code",
   "execution_count": 30,
   "id": "c702bf4a",
   "metadata": {},
   "outputs": [
    {
     "data": {
      "text/plain": [
       "[0.329533036523912,\n",
       " 0.3388430480535652,\n",
       " 0.33623872559537277,\n",
       " 0.3320912318835613,\n",
       " 0.3405153609030572,\n",
       " 0.3389024066565288,\n",
       " 0.343486672572002,\n",
       " 0.345198095309617,\n",
       " 0.3395989927432429,\n",
       " 0.3466230873196496,\n",
       " 0.33659261241436894]"
      ]
     },
     "execution_count": 30,
     "metadata": {},
     "output_type": "execute_result"
    }
   ],
   "source": [
    "score"
   ]
  },
  {
   "cell_type": "code",
   "execution_count": 31,
   "id": "c9e12d7e",
   "metadata": {},
   "outputs": [
    {
     "data": {
      "text/plain": [
       "0.005"
      ]
     },
     "execution_count": 31,
     "metadata": {},
     "output_type": "execute_result"
    }
   ],
   "source": [
    "std = np.std(score)\n",
    "round(std,3)"
   ]
  },
  {
   "cell_type": "markdown",
   "id": "28a86d95",
   "metadata": {},
   "source": [
    "Standard deviation for each rmse score from particular seed around 0.005.\n",
    "We can conclude that standard deviation is low. Because as you can the standard deviation values are approximately the same."
   ]
  },
  {
   "cell_type": "markdown",
   "id": "b276e2ae",
   "metadata": {},
   "source": [
    "# Question 6\n",
    "Split the dataset like previously, use seed 9.\n",
    "Combine train and validation datasets.\n",
    "Fill the missing values with 0 and train a model with r=0.001.\n",
    "What's the RMSE on the test dataset?"
   ]
  },
  {
   "cell_type": "code",
   "execution_count": 32,
   "id": "5cb3209d",
   "metadata": {},
   "outputs": [],
   "source": [
    "def rmse_linreg(i):\n",
    "    np.random.seed(i)\n",
    "\n",
    "    n = len(df)\n",
    "    \n",
    "    #combine train and validation datasets, so we only split into train and test (train=80%, test=20%)\n",
    "    n_test = int(n * 0.2)\n",
    "    n_train = n - (n_test)\n",
    "\n",
    "    idx = np.arange(n)\n",
    "    np.random.shuffle(idx)\n",
    "\n",
    "    df_shuffled = df.iloc[idx]\n",
    "    \n",
    "    df_train = df_shuffled.iloc[:n_train]\n",
    "    df_test = df_shuffled.iloc[n_train:]\n",
    "    \n",
    "    df_train = df_train.reset_index(drop=True)\n",
    "    df_test = df_test.reset_index(drop=True)\n",
    "    \n",
    "    y_train = np.log1p(df_train['median_house_value'].values)\n",
    "    y_test = np.log1p(df_test['median_house_value'].values)\n",
    "    \n",
    "    del df_train['median_house_value']\n",
    "    del df_test['median_house_value']\n",
    "    \n",
    "    #using previous function that fill missing value using 0 and regularization\n",
    "    X_train = prepare_X_with_zero(df_train)\n",
    "    w_0, w = train_linear_regression_reg(X_train, y_train, r=0.001)\n",
    "        \n",
    "    X_test_zero = prepare_X_with_zero(df_test)\n",
    "    y_pred_zero = w_0 + X_test_zero.dot(w)\n",
    "        \n",
    "    rmse_score = rmse(y_test, y_pred_zero)\n",
    "    \n",
    "    return rmse_score"
   ]
  },
  {
   "cell_type": "code",
   "execution_count": 33,
   "id": "ef1f343e",
   "metadata": {},
   "outputs": [
    {
     "data": {
      "text/plain": [
       "0.35"
      ]
     },
     "execution_count": 33,
     "metadata": {},
     "output_type": "execute_result"
    }
   ],
   "source": [
    "round(rmse_linreg(9),2)"
   ]
  },
  {
   "cell_type": "markdown",
   "id": "7cd78730",
   "metadata": {},
   "source": [
    "So, rmse score if fill missing value with 0, seed 9 and regularization r=0.001 approximate is 0.35"
   ]
  }
 ],
 "metadata": {
  "kernelspec": {
   "display_name": "Python 3",
   "language": "python",
   "name": "python3"
  },
  "language_info": {
   "codemirror_mode": {
    "name": "ipython",
    "version": 3
   },
   "file_extension": ".py",
   "mimetype": "text/x-python",
   "name": "python",
   "nbconvert_exporter": "python",
   "pygments_lexer": "ipython3",
   "version": "3.8.8"
  }
 },
 "nbformat": 4,
 "nbformat_minor": 5
}
